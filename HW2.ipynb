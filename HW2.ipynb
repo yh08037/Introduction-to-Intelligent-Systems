{
  "nbformat": 4,
  "nbformat_minor": 0,
  "metadata": {
    "colab": {
      "name": "HW2.ipynb",
      "version": "0.3.2",
      "provenance": [],
      "collapsed_sections": [],
      "include_colab_link": true
    },
    "kernelspec": {
      "name": "python3",
      "display_name": "Python 3"
    },
    "accelerator": "GPU"
  },
  "cells": [
    {
      "cell_type": "markdown",
      "metadata": {
        "id": "view-in-github",
        "colab_type": "text"
      },
      "source": [
        "<a href=\"https://colab.research.google.com/github/yh08037/Introduction-to-Intelligent-Systems/blob/master/HW2.ipynb\" target=\"_parent\"><img src=\"https://colab.research.google.com/assets/colab-badge.svg\" alt=\"Open In Colab\"/></a>"
      ]
    },
    {
      "cell_type": "markdown",
      "metadata": {
        "id": "lmJpYA7HZ_7t",
        "colab_type": "text"
      },
      "source": [
        "# Regularized Regression\n",
        "## 1. Training set  / Test set\n"
      ]
    },
    {
      "cell_type": "code",
      "metadata": {
        "id": "CjjYC13fZ_FQ",
        "colab_type": "code",
        "outputId": "2348e1d9-a8a5-4558-beb9-38a8240bbdd1",
        "colab": {
          "base_uri": "https://localhost:8080/",
          "height": 283
        }
      },
      "source": [
        "import numpy as np\n",
        "import pandas as pd\n",
        "import matplotlib.pyplot as plt\n",
        "\n",
        "\n",
        "name_file = './data_lab2_iis.txt'\n",
        "\n",
        "columns = ['x', 'y']\n",
        "data_in = pd.read_csv(name_file, names=columns, sep=' ')\n",
        "\n",
        "\n",
        "data_size = len(data_in)\n",
        "\n",
        "train_size = int(data_size * 0.7)\n",
        "test_size = int(data_size * 0.3)\n",
        "\n",
        "x = np.asarray(data_in['x'][:train_size])\n",
        "y = np.asarray(data_in['y'][:train_size])\n",
        "\n",
        "x_test = np.asarray(data_in['x'][-test_size:])\n",
        "y_test = np.asarray(data_in['y'][-test_size:])\n",
        "\n",
        "\n",
        "plt.plot(x, y, 'ro')\n",
        "plt.plot(x_test, y_test, 'bo')\n",
        "plt.xlabel('x')\n",
        "plt.ylabel('y')\n",
        "plt.show()\n"
      ],
      "execution_count": 1,
      "outputs": [
        {
          "output_type": "display_data",
          "data": {
            "image/png": "[encoded data removed]",
            "text/plain": [
              "<Figure size 432x288 with 1 Axes>"
            ]
          },
          "metadata": {
            "tags": []
          }
        }
      ]
    },
    {
      "cell_type": "markdown",
      "metadata": {
        "id": "Uds8zaFHaP0d",
        "colab_type": "text"
      },
      "source": [
        "## 2. Finding optimal parameters by closed-form solution"
      ]
    },
    {
      "cell_type": "code",
      "metadata": {
        "id": "8s6E9j14Z2UL",
        "colab_type": "code",
        "colab": {
          "base_uri": "https://localhost:8080/",
          "height": 107
        },
        "outputId": "9fdac140-7562-4e22-b6cb-28289b60bded"
      },
      "source": [
        "# define x(i)\n",
        "\n",
        "I = train_size\n",
        "\n",
        "x1 = np.concatenate((np.ones(I).reshape(-1, 1), x.reshape(-1, 1)), axis=1)\n",
        "\n",
        "x2 = np.concatenate((np.ones(I).reshape(-1, 1), x.reshape(-1, 1), \n",
        "                     (x**2).reshape(-1, 1)), axis=1)\n",
        "\n",
        "x3 = np.concatenate((np.ones(I).reshape(-1, 1), x.reshape(-1, 1), \n",
        "                     (x**2).reshape(-1, 1), (x**3).reshape(-1, 1), \n",
        "                     (x**4).reshape(-1, 1), (x**5).reshape(-1, 1)), axis=1)\n",
        "\n",
        "x4 = np.concatenate((np.ones(I).reshape(-1, 1), x.reshape(-1, 1), \n",
        "                     (x**2).reshape(-1, 1), (x**3).reshape(-1, 1),\n",
        "                     (x**4).reshape(-1, 1), (x**5).reshape(-1, 1)), axis=1)\n",
        "\n",
        "\n",
        "\n",
        "# finding thetas\n",
        "\n",
        "# a) unregularized linear\n",
        "\n",
        "x1_tp = np.transpose(x1)\n",
        "\n",
        "theta1 = np.matmul(np.matmul(np.linalg.inv(np.matmul(x1_tp, x1)), x1_tp), y)\n",
        "\n",
        "\n",
        "# b) unregularized parabolic\n",
        "\n",
        "x2_tp = np.transpose(x2)\n",
        "\n",
        "theta2 = np.matmul(np.matmul(np.linalg.inv(np.matmul(x2_tp, x2)), x2_tp), y)\n",
        "\n",
        "\n",
        "# c) unregularized 5th-order polynomial\n",
        "\n",
        "x3_tp = np.transpose(x3)\n",
        "\n",
        "theta3 = np.matmul(np.matmul(np.linalg.inv(np.matmul(x3_tp, x3)), x3_tp), y)\n",
        "\n",
        "\n",
        "# d) regularized 5th-order polynomial (RIDGE)\n",
        "\n",
        "x4_tp = np.transpose(x4)\n",
        "\n",
        "Lambda = 0.1\n",
        "\n",
        "mat = np.identity(x4.shape[1])\n",
        "mat[0, 0] = 0\n",
        "\n",
        "theta4 = np.matmul(np.matmul(np.linalg.inv(np.matmul(x4_tp, x4) + Lambda * mat), x4_tp), y)\n",
        "\n",
        "\n",
        "# print theta values\n",
        "print(theta1)\n",
        "print(theta2)\n",
        "print(theta3)\n",
        "print(theta4)"
      ],
      "execution_count": 21,
      "outputs": [
        {
          "output_type": "stream",
          "text": [
            "[0.18763866 8.26760735]\n",
            "[1.5774796  2.19727265 4.35480533]\n",
            "[  1.64250254   8.42867414 -44.08589458 107.37525222 -91.43111654\n",
            "  26.56182717]\n",
            "[ 1.72291769  1.61121991  3.36746005  2.2900274   0.33199659 -1.02156364]\n"
          ],
          "name": "stdout"
        }
      ]
    },
    {
      "cell_type": "markdown",
      "metadata": {
        "id": "An9WU4lnhPAr",
        "colab_type": "text"
      },
      "source": [
        "## 3. Plot traing data as well as fitted curve"
      ]
    },
    {
      "cell_type": "code",
      "metadata": {
        "id": "3zK3xkE2oQYn",
        "colab_type": "code",
        "colab": {}
      },
      "source": [
        "def f(theta, x):\n",
        "    result = 0.\n",
        "    for i in range(theta.size):\n",
        "        result += float(theta[i]) * (x**i)\n",
        "    return result"
      ],
      "execution_count": 0,
      "outputs": []
    },
    {
      "cell_type": "code",
      "metadata": {
        "id": "q3isfzNbhOKp",
        "colab_type": "code",
        "colab": {
          "base_uri": "https://localhost:8080/",
          "height": 283
        },
        "outputId": "7760f52d-142b-4a18-c7dd-9873ef85201b"
      },
      "source": [
        "plt.plot(x, y, 'ro')\n",
        "plt.xlabel('x')\n",
        "plt.ylabel('y')\n",
        "\n",
        "plt.plot(x, f(theta1, x), label = \"a\")\n",
        "plt.plot(x, f(theta2, x), label = \"b\")\n",
        "plt.plot(x, f(theta3, x), label = \"c\")\n",
        "plt.plot(x, f(theta4, x), label = \"d\")\n",
        "\n",
        "plt.legend()\n",
        "\n",
        "plt.show()"
      ],
      "execution_count": 17,
      "outputs": [
        {
          "output_type": "display_data",
          "data": {
            "image/png": "[encoded data removed]",
            "text/plain": [
              "<Figure size 432x288 with 1 Axes>"
            ]
          },
          "metadata": {
            "tags": []
          }
        }
      ]
    },
    {
      "cell_type": "markdown",
      "metadata": {
        "id": "Xk6hHCh8n6jM",
        "colab_type": "text"
      },
      "source": [
        "## 4. Compute traing errors"
      ]
    },
    {
      "cell_type": "code",
      "metadata": {
        "id": "VVWf83g3sR5F",
        "colab_type": "code",
        "colab": {}
      },
      "source": [
        "def SSE(y_hat, y):\n",
        "    if y_hat.size != y.size:\n",
        "        print(\"Invalid arguments for SSE function\")\n",
        "        exit()\n",
        "\n",
        "    result = 0.\n",
        "    for i in range(1, y.size):\n",
        "        result += float(y_hat[i] - y[i]) ** 2\n",
        "    return result / 2"
      ],
      "execution_count": 0,
      "outputs": []
    },
    {
      "cell_type": "code",
      "metadata": {
        "id": "-1m4v9xSrhVp",
        "colab_type": "code",
        "colab": {
          "base_uri": "https://localhost:8080/",
          "height": 89
        },
        "outputId": "701c8e87-cd1b-4673-a29e-e2b76424845c"
      },
      "source": [
        "y1_hat = np.empty((y.size, 1))\n",
        "y2_hat = np.empty((y.size, 1))\n",
        "y3_hat = np.empty((y.size, 1))\n",
        "y4_hat = np.empty((y.size, 1))\n",
        "\n",
        "theta1_tp = np.transpose(theta1)\n",
        "theta2_tp = np.transpose(theta2)\n",
        "theta3_tp = np.transpose(theta3)\n",
        "theta4_tp = np.transpose(theta4)\n",
        "\n",
        "for i in range(0, I):\n",
        "    y1_hat[i] = np.matmul(theta1_tp, x1[i])\n",
        "    y2_hat[i] = np.matmul(theta2_tp, x2[i])\n",
        "    y3_hat[i] = np.matmul(theta3_tp, x3[i])\n",
        "    y4_hat[i] = np.matmul(theta4_tp, x4[i])\n",
        "    \n",
        "error1 = SSE(y1_hat, y)\n",
        "error2 = SSE(y2_hat, y)\n",
        "error3 = SSE(y3_hat, y)\n",
        "error4 = SSE(y4_hat, y)\n",
        "\n",
        "print(error1)\n",
        "print(error2)\n",
        "print(error3)\n",
        "print(error4)"
      ],
      "execution_count": 19,
      "outputs": [
        {
          "output_type": "stream",
          "text": [
            "105.07313735593334\n",
            "90.06767412459644\n",
            "87.4632870008633\n",
            "154.6889304531787\n"
          ],
          "name": "stdout"
        }
      ]
    },
    {
      "cell_type": "markdown",
      "metadata": {
        "id": "Hr3nCqlUrh1K",
        "colab_type": "text"
      },
      "source": [
        "## 5. Plot test data"
      ]
    },
    {
      "cell_type": "code",
      "metadata": {
        "id": "1-psvuorrhHq",
        "colab_type": "code",
        "colab": {
          "base_uri": "https://localhost:8080/",
          "height": 283
        },
        "outputId": "24babff8-4247-4c12-9e66-506b8ec51439"
      },
      "source": [
        "plt.plot(x_test, y_test, 'ro')\n",
        "plt.xlabel('x_test')\n",
        "plt.ylabel('y_test')\n",
        "\n",
        "plt.plot(x_test, f(theta1, x_test), label = \"a\")\n",
        "plt.plot(x_test, f(theta2, x_test), label = \"b\")\n",
        "plt.plot(x_test, f(theta3, x_test), label = \"c\")\n",
        "plt.plot(x_test, f(theta4, x_test), label = \"d\")\n",
        "\n",
        "plt.legend()\n",
        "\n",
        "plt.show()"
      ],
      "execution_count": 22,
      "outputs": [
        {
          "output_type": "display_data",
          "data": {
            "image/png": "[encoded data removed]",
            "text/plain": [
              "<Figure size 432x288 with 1 Axes>"
            ]
          },
          "metadata": {
            "tags": []
          }
        }
      ]
    },
    {
      "cell_type": "markdown",
      "metadata": {
        "id": "WFLR8e-nriUR",
        "colab_type": "text"
      },
      "source": [
        "## 6. Compute test errors"
      ]
    },
    {
      "cell_type": "code",
      "metadata": {
        "id": "_worb0enn50d",
        "colab_type": "code",
        "colab": {
          "base_uri": "https://localhost:8080/",
          "height": 89
        },
        "outputId": "69e9f006-2741-4a80-e162-0059b17770ac"
      },
      "source": [
        "I = test_size\n",
        "\n",
        "x1_test = np.concatenate((np.ones(I).reshape(-1, 1), x_test.reshape(-1, 1)), axis=1)\n",
        "\n",
        "x2_test = np.concatenate((np.ones(I).reshape(-1, 1), x_test.reshape(-1, 1), \n",
        "                     (x_test**2).reshape(-1, 1)), axis=1)\n",
        "\n",
        "x3_test = np.concatenate((np.ones(I).reshape(-1, 1), x_test.reshape(-1, 1), \n",
        "                     (x_test**2).reshape(-1, 1), (x_test**3).reshape(-1, 1), \n",
        "                     (x_test**4).reshape(-1, 1), (x_test**5).reshape(-1, 1)), axis=1)\n",
        "\n",
        "x4_test = np.concatenate((np.ones(I).reshape(-1, 1), x_test.reshape(-1, 1), \n",
        "                     (x_test**2).reshape(-1, 1), (x_test**3).reshape(-1, 1),\n",
        "                     (x_test**4).reshape(-1, 1), (x_test**5).reshape(-1, 1)), axis=1)\n",
        "\n",
        "y1_hat_test = np.empty((y_test.size, 1))\n",
        "y2_hat_test = np.empty((y_test.size, 1))\n",
        "y3_hat_test = np.empty((y_test.size, 1))\n",
        "y4_hat_test = np.empty((y_test.size, 1))\n",
        "\n",
        "for i in range(0, I):\n",
        "    y1_hat_test[i] = np.matmul(theta1_tp, x1_test[i])\n",
        "    y2_hat_test[i] = np.matmul(theta2_tp, x2_test[i])\n",
        "    y3_hat_test[i] = np.matmul(theta3_tp, x3_test[i])\n",
        "    y4_hat_test[i] = np.matmul(theta4_tp, x4_test[i])\n",
        "    \n",
        "error1_test = SSE(y1_hat_test, y_test)\n",
        "error2_test = SSE(y2_hat_test, y_test)\n",
        "error3_test = SSE(y3_hat_test, y_test)\n",
        "error4_test = SSE(y4_hat_test, y_test)\n",
        "\n",
        "print(error1_test)\n",
        "print(error2_test)\n",
        "print(error3_test)\n",
        "print(error4_test)\n"
      ],
      "execution_count": 8,
      "outputs": [
        {
          "output_type": "stream",
          "text": [
            "176.72291475280844\n",
            "41.1523531137311\n",
            "11849.173052928854\n",
            "525.3222253070908\n"
          ],
          "name": "stdout"
        }
      ]
    }
  ]
}