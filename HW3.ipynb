{
  "nbformat": 4,
  "nbformat_minor": 0,
  "metadata": {
    "colab": {
      "name": "HW3.ipynb",
      "version": "0.3.2",
      "provenance": [],
      "collapsed_sections": [],
      "toc_visible": true,
      "include_colab_link": true
    },
    "kernelspec": {
      "name": "python3",
      "display_name": "Python 3"
    }
  },
  "cells": [
    {
      "cell_type": "markdown",
      "metadata": {
        "id": "view-in-github",
        "colab_type": "text"
      },
      "source": [
        "<a href=\"https://colab.research.google.com/github/yh08037/Introduction-to-Intelligent-Systems/blob/master/HW3.ipynb\" target=\"_parent\"><img src=\"https://colab.research.google.com/assets/colab-badge.svg\" alt=\"Open In Colab\"/></a>"
      ]
    },
    {
      "cell_type": "markdown",
      "metadata": {
        "id": "beKS8rVMCG5s",
        "colab_type": "text"
      },
      "source": [
        "# Feedforward Neural Network\n",
        "## 1. Implement classifier using FFNN\n",
        "* FFNN shound consist of three layers, in which the hidden layer has 5 neurons."
      ]
    },
    {
      "cell_type": "code",
      "metadata": {
        "id": "-E4pm6iv7W_M",
        "colab_type": "code",
        "outputId": "a8685e76-abc3-4ef7-c20d-32ebdebc52da",
        "colab": {
          "base_uri": "https://localhost:8080/",
          "height": 1000
        }
      },
      "source": [
        "import numpy as np\n",
        "import pandas as pd\n",
        "import matplotlib.pyplot as plt\n",
        "\n",
        "def sigmoid(x):\n",
        "    return 1. / (np.ones(x.shape) + np.exp(-x))\n",
        "\n",
        "def SSE(g, y):\n",
        "    if g.shape != y.shape :\n",
        "        print(\"Invalid arguments for SEE\")\n",
        "        exit()\n",
        "    result = 0.\n",
        "    for i in range(g.shape[0]):\n",
        "        for j in range(g.shape[1]):\n",
        "            result += (g[i][j] - y[i][j]) ** 2\n",
        "    return result / 2.\n",
        "\n",
        "\n",
        "# read data file\n",
        "\n",
        "name_file = \"./data_FFNN.txt\"\n",
        "\n",
        "columns = ['x1', 'x2', 'y']\n",
        "data_in = pd.read_csv(name_file, names=columns, sep=' ')\n",
        "\n",
        "\n",
        "# define x\n",
        "\n",
        "x1 = np.asarray(data_in['x1']).reshape(-1, 1)\n",
        "x2 = np.asarray(data_in['x2']).reshape(-1, 1)\n",
        "\n",
        "x = np.concatenate((x1.reshape(-1, 1), x2.reshape(-1, 1)), axis=1)\n",
        "\n",
        "\n",
        "# define I, N, J, K\n",
        "\n",
        "# N : number of features = 2\n",
        "# I : number of data = 51\n",
        "# J : number of output = 2\n",
        "# k : nmmber of hidden neurons = 5\n",
        "\n",
        "I, N = x.shape\n",
        "J = 2 \n",
        "K = 5  \n",
        "\n",
        "\n",
        "# define y\n",
        "\n",
        "y2 = np.asarray(data_in['y'])\n",
        "y1 = np.empty(y2.shape)\n",
        "\n",
        "for i in range(I):\n",
        "    y1[i] = 0 if y2[i] == 1  else 1\n",
        "    \n",
        "y = np.concatenate((y1.reshape(-1, 1), y2.reshape(-1, 1)), axis=1)\n",
        "\n",
        "\n",
        "# define x_bar\n",
        "\n",
        "x_bar = np.concatenate((np.ones((I, 1)), x), axis=1)\n",
        "\n",
        "\n",
        "#initialize theta randomly\n",
        "\n",
        "v = np.concatenate((np.ones((1, K)), np.random.rand(N, K)), axis=0)\n",
        "w = np.concatenate((np.ones((1, J)), np.random.rand(K, J)), axis=0)\n",
        "\n",
        "\n",
        "# define alpha1, alpha2\n",
        "\n",
        "alpha1 = 0.01\n",
        "alpha2 = 0.01\n",
        "\n",
        "epsilon = 0.0001\n",
        "\n",
        "cnt = 0\n",
        "\n",
        "E_present = 0.\n",
        "E_previous = 0.\n",
        "\n",
        "while cnt < 2 or abs(E_present - E_previous) > epsilon: \n",
        "    x_bar_bar = np.dot(x_bar, v)\n",
        "    F = sigmoid(x_bar_bar)\n",
        "    F_bar = np.concatenate((np.ones((I, 1)), F), axis=1)\n",
        "    F_bar_bar = np.dot(F_bar, w)\n",
        "    G = sigmoid(F_bar_bar)\n",
        "\n",
        "    for k in range(0, K+1):\n",
        "        for j in range(0, J):\n",
        "            for i in range(0, I):\n",
        "                w[k][j] -= alpha1 * (G[i][j] - y[i][j]) * G[i][j] * (1 - G[i][j]) * F_bar[i][k]\n",
        "\n",
        "    for n in range(0, N+1):\n",
        "        for k in range(0, K):\n",
        "            for i in range(0, I):\n",
        "                for j in range(0, J):\n",
        "                    v[n][k] -= alpha2 * (G[i][j] - y[i][j]) * G[i][j] * (1 - G[i][j]) * w[k][j] * F[i][k] * (1 - F[i][k]) * x_bar[i][n]\n",
        "\n",
        "    if cnt > 0 : E_previous = E_present\n",
        "    \n",
        "    E_present = SSE(G, y)\n",
        "    \n",
        "    cnt += 1\n",
        "    \n",
        "    if cnt % 100 == 0:\n",
        "        print(\"iter : %d, error : %f\" %(cnt, E_present))\n"
      ],
      "execution_count": 18,
      "outputs": [
        {
          "output_type": "stream",
          "text": [
            "iter : 100, error : 12.411261\n",
            "iter : 200, error : 12.385075\n",
            "iter : 300, error : 12.357880\n",
            "iter : 400, error : 12.330133\n",
            "iter : 500, error : 12.302307\n",
            "iter : 600, error : 12.274966\n",
            "iter : 700, error : 12.249057\n",
            "iter : 800, error : 12.224782\n",
            "iter : 900, error : 12.188957\n",
            "iter : 1000, error : 12.126523\n",
            "iter : 1100, error : 12.038012\n",
            "iter : 1200, error : 11.906059\n",
            "iter : 1300, error : 11.700207\n",
            "iter : 1400, error : 11.379298\n",
            "iter : 1500, error : 10.903235\n",
            "iter : 1600, error : 10.249704\n",
            "iter : 1700, error : 9.426731\n",
            "iter : 1800, error : 8.486255\n",
            "iter : 1900, error : 7.520366\n",
            "iter : 2000, error : 6.620100\n",
            "iter : 2100, error : 5.837927\n",
            "iter : 2200, error : 5.186200\n",
            "iter : 2300, error : 4.653758\n",
            "iter : 2400, error : 4.220585\n",
            "iter : 2500, error : 3.866212\n",
            "iter : 2600, error : 3.573412\n",
            "iter : 2700, error : 3.328919\n",
            "iter : 2800, error : 3.122803\n",
            "iter : 2900, error : 2.947634\n",
            "iter : 3000, error : 2.797841\n",
            "iter : 3100, error : 2.669278\n",
            "iter : 3200, error : 2.558892\n",
            "iter : 3300, error : 2.464348\n",
            "iter : 3400, error : 2.383417\n",
            "iter : 3500, error : 2.313261\n",
            "iter : 3600, error : 2.250579\n",
            "iter : 3700, error : 2.192885\n",
            "iter : 3800, error : 2.139039\n",
            "iter : 3900, error : 2.088542\n",
            "iter : 4000, error : 2.040944\n",
            "iter : 4100, error : 1.995747\n",
            "iter : 4200, error : 1.952478\n",
            "iter : 4300, error : 1.910736\n",
            "iter : 4400, error : 1.870199\n",
            "iter : 4500, error : 1.830629\n",
            "iter : 4600, error : 1.791858\n",
            "iter : 4700, error : 1.753782\n",
            "iter : 4800, error : 1.716349\n",
            "iter : 4900, error : 1.679550\n",
            "iter : 5000, error : 1.643404\n",
            "iter : 5100, error : 1.607954\n",
            "iter : 5200, error : 1.573265\n",
            "iter : 5300, error : 1.539445\n",
            "iter : 5400, error : 1.506784\n",
            "iter : 5500, error : 1.477228\n"
          ],
          "name": "stdout"
        }
      ]
    },
    {
      "cell_type": "markdown",
      "metadata": {
        "id": "yJ_AuObtBm57",
        "colab_type": "text"
      },
      "source": [
        "## 3. What are the optimal parameter values?"
      ]
    },
    {
      "cell_type": "code",
      "metadata": {
        "id": "zeAAfxURCAvk",
        "colab_type": "code",
        "outputId": "526e35a3-b14f-459b-cec6-f5f6cbf29119",
        "colab": {
          "base_uri": "https://localhost:8080/",
          "height": 233
        }
      },
      "source": [
        "print('parameter values for hidden layer')\n",
        "print(v)\n",
        "\n",
        "print()\n",
        "\n",
        "print('parameter values for output layer')\n",
        "print(w)"
      ],
      "execution_count": 19,
      "outputs": [
        {
          "output_type": "stream",
          "text": [
            "parameter values for hidden layer\n",
            "[[ 1.3674581   1.44340662  1.18384505  1.1946904  -5.78894619]\n",
            " [ 0.69415356  0.82275193  1.40943266  2.46403269  0.61993784]\n",
            " [ 1.72476131  1.41769348  0.41345862 -0.72518971  1.4141445 ]]\n",
            "\n",
            "parameter values for output layer\n",
            "[[  2.29517398  -1.67378686]\n",
            " [  1.74137041  -1.45202915]\n",
            " [  1.28317806  -1.08800163]\n",
            " [  0.31318336  -1.29082092]\n",
            " [  0.1738838   -0.32164181]\n",
            " [-10.24919828  10.25838373]]\n"
          ],
          "name": "stdout"
        }
      ]
    },
    {
      "cell_type": "markdown",
      "metadata": {
        "id": "aB9U1UgJEvcA",
        "colab_type": "text"
      },
      "source": [
        "## 4. Show that your classifier can correctly classify for (2, 2), (4, 4)"
      ]
    },
    {
      "cell_type": "code",
      "metadata": {
        "id": "iwf0-JXPkrmY",
        "colab_type": "code",
        "colab": {}
      },
      "source": [
        "def h(_x1, _x2):\n",
        "    _F = sigmoid(np.dot(np.asarray([[1, _x1, _x2]]), v))\n",
        "    _F_bar = np.concatenate((np.ones((1, 1)), _F), axis=1)\n",
        "    _G = sigmoid(np.dot(_F_bar, w))\n",
        "    return _G[0, 0]"
      ],
      "execution_count": 0,
      "outputs": []
    },
    {
      "cell_type": "code",
      "metadata": {
        "id": "Wsl2ZxSpE3-2",
        "colab_type": "code",
        "outputId": "47d5ed80-efaf-48ce-db2c-ef4b44f196bd",
        "colab": {
          "base_uri": "https://localhost:8080/",
          "height": 283
        }
      },
      "source": [
        "# region a : 0 / b : 1\n",
        "\n",
        "x_a1 = x1[y1 == 1]\n",
        "x_a2 = x2[y1 == 1]\n",
        "\n",
        "x_b1 = x1[y2 == 1]\n",
        "x_b2 = x2[y2 == 1]\n",
        "\n",
        "plt.plot(x_a1, x_a2, 'ro', label = \"class 0\")\n",
        "plt.plot(x_b1, x_b2, 'bo', label = \"class 1\")\n",
        "\n",
        "plt.plot(2, 2, 'rx', label = \"(2, 2)\")\n",
        "plt.plot(4, 4, 'bx', label = \"(4, 4)\")\n",
        "\n",
        "plt.xlabel('x1')\n",
        "plt.ylabel('x2')\n",
        "\n",
        "plt.legend(loc='lower left')\n",
        "\n",
        "plt.show()"
      ],
      "execution_count": 33,
      "outputs": [
        {
          "output_type": "display_data",
          "data": {
            "image/png": "[encoded data removed]",
            "text/plain": [
              "<Figure size 432x288 with 1 Axes>"
            ]
          },
          "metadata": {
            "tags": []
          }
        }
      ]
    }
  ]
}