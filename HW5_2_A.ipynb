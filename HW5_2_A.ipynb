{
  "nbformat": 4,
  "nbformat_minor": 0,
  "metadata": {
    "colab": {
      "name": "HW5-2-A.ipynb",
      "version": "0.3.2",
      "provenance": [],
      "collapsed_sections": [],
      "toc_visible": true,
      "include_colab_link": true
    },
    "kernelspec": {
      "name": "python3",
      "display_name": "Python 3"
    }
  },
  "cells": [
    {
      "cell_type": "markdown",
      "metadata": {
        "id": "view-in-github",
        "colab_type": "text"
      },
      "source": [
        "<a href=\"https://colab.research.google.com/github/yh08037/Introduction-to-Intelligent-Systems/blob/master/HW5_2_A.ipynb\" target=\"_parent\"><img src=\"https://colab.research.google.com/assets/colab-badge.svg\" alt=\"Open In Colab\"/></a>"
      ]
    },
    {
      "cell_type": "markdown",
      "metadata": {
        "id": "Zif_PS0e-1qI",
        "colab_type": "text"
      },
      "source": [
        "# Lab 5-2 Principas Component Analasis\n",
        "## A) Reducing the dimension of som synthetic data\n",
        "### 1. Loading data and Initialization"
      ]
    },
    {
      "cell_type": "code",
      "metadata": {
        "id": "7qNfWDQt-t2h",
        "colab_type": "code",
        "colab": {}
      },
      "source": [
        "import numpy as np\n",
        "import pandas as pd\n",
        "import matplotlib.pyplot as plt\n",
        "import math\n",
        "\n",
        "\n",
        "name_file = \"./data_pca.txt\"\n",
        "\n",
        "columns = ['x1', 'x2']\n",
        "\n",
        "x = np.asarray(pd.read_csv(name_file, names=columns, sep=' '))\n",
        "\n",
        "\n",
        "I, N = x.shape\n",
        "\n",
        "P = 1"
      ],
      "execution_count": 0,
      "outputs": []
    },
    {
      "cell_type": "markdown",
      "metadata": {
        "id": "HF4Za6HX_2QZ",
        "colab_type": "text"
      },
      "source": [
        "### 2. Implement the PCA"
      ]
    },
    {
      "cell_type": "code",
      "metadata": {
        "id": "SEtU1HmS_1Cm",
        "colab_type": "code",
        "colab": {}
      },
      "source": [
        "# compute mu : centroid of data\n",
        "\n",
        "mu = np.zeros(N)\n",
        "\n",
        "for i in range(I):\n",
        "    mu += x[i]\n",
        "mu = mu / I\n",
        "\n",
        "\n",
        "# compute x_tilde : translate x so that the centroid is origin\n",
        "\n",
        "x_tilde = np.empty(x.shape)\n",
        "\n",
        "for i in range(I):\n",
        "    x_tilde[i] = x[i] - mu\n",
        "    \n",
        "\n",
        "# compute sigma : covariance matrix\n",
        "    \n",
        "sigma = np.zeros((N, N))\n",
        "\n",
        "for i in range(I):\n",
        "    sigma += np.matmul(x_tilde[i].reshape(-1, 1), x_tilde[i].reshape(1, -1))\n",
        "sigma = sigma / I\n",
        "\n",
        "\n",
        "# get eigenvalues, eigenvectors of sigma\n",
        "\n",
        "eigvals, eigvecs = np.linalg.eig(sigma)\n",
        "\n",
        "\n",
        "# get u : P pricipal eigenvectors\n",
        "#       : eigenvectors correspoding to the P highest eigenvalues\n",
        "\n",
        "u = eigvecs[:, eigvals.argsort()[-P:]]\n",
        "\n",
        "\n",
        "# compute y : project x_tilde onto u\n",
        "\n",
        "y = np.empty((I, P))\n",
        "\n",
        "for i in range(I):\n",
        "    y[i] = np.asarray([np.dot(u[:, p], x_tilde[i]) for p in range(P)])\n",
        "    "
      ],
      "execution_count": 0,
      "outputs": []
    },
    {
      "cell_type": "markdown",
      "metadata": {
        "id": "nX6CIl8_CVZY",
        "colab_type": "text"
      },
      "source": [
        "### 3. Indicate the principal axes of the data"
      ]
    },
    {
      "cell_type": "code",
      "metadata": {
        "id": "y_6ADsXtCfL8",
        "colab_type": "code",
        "colab": {
          "base_uri": "https://localhost:8080/",
          "height": 53
        },
        "outputId": "927e1889-08c7-48e6-9a96-04ba9891f707"
      },
      "source": [
        "print('Principal axes of the data')\n",
        "for p in range(P):\n",
        "    print(' u%d : ' %(p+1), u[:, p], '\\tnorm : ', np.linalg.norm(u[:, p]))"
      ],
      "execution_count": 3,
      "outputs": [
        {
          "output_type": "stream",
          "text": [
            "Principal axes of the data\n",
            " u1 :  [0.76908317 0.63914872] \tnorm :  1.0\n"
          ],
          "name": "stdout"
        }
      ]
    },
    {
      "cell_type": "markdown",
      "metadata": {
        "id": "t1aHdVD4Cfk5",
        "colab_type": "text"
      },
      "source": [
        "### 4. Test model with new data"
      ]
    },
    {
      "cell_type": "code",
      "metadata": {
        "id": "SHsAFoCECgN7",
        "colab_type": "code",
        "colab": {
          "base_uri": "https://localhost:8080/",
          "height": 233
        },
        "outputId": "24376109-345b-4e55-d419-8fcebbff8741"
      },
      "source": [
        "I_test = 10\n",
        "\n",
        "x_test = np.random.uniform(0, 8, (I_test, N))\n",
        "\n",
        "x_test_tilde = np.empty(x_test.shape)\n",
        "\n",
        "for i in range(I_test):\n",
        "    x_test_tilde[i] = x_test[i] - mu\n",
        "    \n",
        "y_test = np.empty((I_test, P))\n",
        "\n",
        "for i in range(I_test):\n",
        "    y_test[i] = np.asarray([np.dot(u[:, p], x_test_tilde[i]) for p in range(P)])\n",
        "    \n",
        "\n",
        "print('x_test \\t\\t\\t\\t x_test_tilde \\t\\t\\t y_test')\n",
        "print()\n",
        "for i in range(I_test):\n",
        "    print(x_test[i], '\\t', x_test_tilde[i], '\\t', y[i])"
      ],
      "execution_count": 4,
      "outputs": [
        {
          "output_type": "stream",
          "text": [
            "x_test \t\t\t\t x_test_tilde \t\t\t y_test\n",
            "\n",
            "[1.72028108 0.74917605] \t [-2.26898292 -4.25362995] \t [-1.49874228]\n",
            "[7.69889701 1.72326224] \t [ 3.70963301 -3.27954376] \t [0.95842326]\n",
            "[3.33408659 5.96727479] \t [-0.65517741  0.96446879] \t [-1.40323452]\n",
            "[4.02311447 0.93913634] \t [ 0.03385047 -4.06366966] \t [-1.76425091]\n",
            "[1.73770192 7.16368962] \t [-2.25156208  2.16088362] \t [-1.40757522]\n",
            "[1.02291949 7.73382124] \t [-2.96634451  2.73101524] \t [0.87371159]\n",
            "[2.82819371 5.68622012] \t [-1.16107029  0.68341412] \t [-1.2705341]\n",
            "[6.90208615 3.13811742] \t [ 2.91282215 -1.86468858] \t [2.55069325]\n",
            "[7.34193484 4.01859784] \t [ 3.35267084 -0.98420816] \t [0.01467385]\n",
            "[6.89155014 7.03951709] \t [2.90228614 2.03671109] \t [0.83691574]\n"
          ],
          "name": "stdout"
        }
      ]
    },
    {
      "cell_type": "markdown",
      "metadata": {
        "id": "OM8JLxR4Cgi7",
        "colab_type": "text"
      },
      "source": [
        "### 5. Plot training and test results"
      ]
    },
    {
      "cell_type": "code",
      "metadata": {
        "id": "7dKI5NazphoF",
        "colab_type": "code",
        "colab": {
          "base_uri": "https://localhost:8080/",
          "height": 600
        },
        "outputId": "dda73274-1097-4bdc-a1c6-5a981d3f9c7d"
      },
      "source": [
        "plt.figure(figsize=(6, 6))\n",
        "plt.xlim(0, 8)\n",
        "plt.ylim(0, 8)\n",
        "plt.title('P principal eigenvector hyperplane')\n",
        "plt.plot(x[:,0], x[:,1], \"ro\", label='training data')\n",
        "t = list(range(0, 9))\n",
        "plt.plot(t, u[1, 0] / u[0, 0] * (t - mu[0]) + mu[1], 'k')\n",
        "\n",
        "plt.plot(x_test[:,0], x_test[:,1], \"bo\", label='test data')\n",
        "plt.plot(t, u[1, 0] / u[0, 0] * (t - mu[0]) + mu[1], 'k')\n",
        "\n",
        "plt.legend()\n",
        "plt.show()\n",
        "\n",
        "\n",
        "plt.figure(figsize=(12, 3))\n",
        "plt.title('Dimesionally reduced data from N = 2 to P = 1')\n",
        "plt.plot(y, np.zeros(y.shape), 'k')\n",
        "plt.plot(y, np.zeros(y.shape), 'ro', label='trainfng data')\n",
        "\n",
        "plt.plot(y_test, np.zeros(y_test.shape), 'k')\n",
        "plt.plot(y_test, np.zeros(y_test.shape), 'bo', label='test data')\n",
        "\n",
        "plt.legend()\n",
        "plt.show()"
      ],
      "execution_count": 5,
      "outputs": [
        {
          "output_type": "display_data",
          "data": {
            "image/png": "[encoded data removed]",
            "text/plain": [
              "<Figure size 432x432 with 1 Axes>"
            ]
          },
          "metadata": {
            "tags": []
          }
        },
        {
          "output_type": "display_data",
          "data": {
            "image/png": "[encoded data removed]",
            "text/plain": [
              "<Figure size 864x216 with 1 Axes>"
            ]
          },
          "metadata": {
            "tags": []
          }
        }
      ]
    },
    {
      "cell_type": "markdown",
      "metadata": {
        "id": "7xRypzIm-0E2",
        "colab_type": "text"
      },
      "source": [
        ""
      ]
    }
  ]
}