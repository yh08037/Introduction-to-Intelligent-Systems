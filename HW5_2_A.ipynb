{
  "nbformat": 4,
  "nbformat_minor": 0,
  "metadata": {
    "colab": {
      "name": "HW5-2-A.ipynb",
      "version": "0.3.2",
      "provenance": [],
      "collapsed_sections": [],
      "toc_visible": true,
      "include_colab_link": true
    },
    "kernelspec": {
      "name": "python3",
      "display_name": "Python 3"
    }
  },
  "cells": [
    {
      "cell_type": "markdown",
      "metadata": {
        "id": "view-in-github",
        "colab_type": "text"
      },
      "source": [
        "<a href=\"https://colab.research.google.com/github/yh08037/Introduction-to-Intelligent-Systems/blob/master/HW5_2_A.ipynb\" target=\"_parent\"><img src=\"https://colab.research.google.com/assets/colab-badge.svg\" alt=\"Open In Colab\"/></a>"
      ]
    },
    {
      "cell_type": "markdown",
      "metadata": {
        "id": "Zif_PS0e-1qI",
        "colab_type": "text"
      },
      "source": [
        "# Lab 5-2 Principas Component Analasis\n",
        "## A) Reducing the dimension of som synthetic data\n",
        "### Loading data and Initialization"
      ]
    },
    {
      "cell_type": "code",
      "metadata": {
        "id": "7qNfWDQt-t2h",
        "colab_type": "code",
        "colab": {}
      },
      "source": [
        "import numpy as np\n",
        "import pandas as pd\n",
        "import matplotlib.pyplot as plt\n",
        "import math\n",
        "\n",
        "\n",
        "name_file = \"./data_pca.txt\"\n",
        "\n",
        "columns = ['x1', 'x2']\n",
        "\n",
        "x = np.asarray(pd.read_csv(name_file, names=columns, sep=' '))\n",
        "\n",
        "\n",
        "I, N = x.shape\n",
        "\n",
        "P = 1\n",
        "\n",
        "\n",
        "mu = np.zeros(N)\n",
        "\n",
        "for i in range(I):\n",
        "    mu += x[i]\n",
        "mu = mu / I\n",
        "\n",
        "x_tilde = np.empty(x.shape)\n",
        "\n",
        "for i in range(I):\n",
        "    x_tilde[i] = x[i] - mu\n",
        "    \n",
        "    \n",
        "    \n",
        "sigma = np.zeros((N, N))\n",
        "\n",
        "for i in range(I):\n",
        "    sigma += np.matmul(x_tilde[i].reshape(-1, 1), x_tilde[i].reshape(1, -1))\n",
        "sigma = sigma / I\n",
        "\n",
        "\n",
        "eigvals, eigvecs = np.linalg.eig(sigma)\n",
        "\n",
        "\n",
        "# u : P pricipal eigenvectors\n",
        "# eigen vectors correspoding to the P highest eigenvalues\n",
        "u = eigvecs[:, eigvals.argsort()[-P:]]\n",
        "\n",
        "y = np.empty((I, P))\n",
        "\n",
        "for i in range(I):\n",
        "    y[i] = np.asarray([np.dot(u[:, p], x[i]) for p in range(P)])\n",
        "    "
      ],
      "execution_count": 0,
      "outputs": []
    },
    {
      "cell_type": "code",
      "metadata": {
        "id": "7dKI5NazphoF",
        "colab_type": "code",
        "colab": {
          "base_uri": "https://localhost:8080/",
          "height": 491
        },
        "outputId": "19a40fd9-7979-4802-d872-b13e2430d112"
      },
      "source": [
        "plt.title('P principal eigenvector hyperplane')\n",
        "\n",
        "plt.plot(x[:,0], x[:,1], \"ro\")\n",
        "\n",
        "t = list(range(math.floor(min(x[:, 0])), math.ceil(max(x[:, 0])) + 1))\n",
        "plt.plot(t, u[1, 0] / u[0, 0] * (t - mu[0]) + mu[1], 'k')\n",
        "\n",
        "plt.show()\n",
        "\n",
        "plt.figure(figsize=(12, 3))\n",
        "plt.title('Dimesionally reduced data from N = 2 to P = 1')\n",
        "plt.plot(y, np.zeros(y.shape), 'k')\n",
        "plt.plot(y, np.zeros(y.shape), 'ro')\n",
        "\n",
        "plt.show()"
      ],
      "execution_count": 50,
      "outputs": [
        {
          "output_type": "display_data",
          "data": {
            "image/png": "[encoded data removed]",
            "text/plain": [
              "<Figure size 432x288 with 1 Axes>"
            ]
          },
          "metadata": {
            "tags": []
          }
        },
        {
          "output_type": "display_data",
          "data": {
            "image/png": "[encoded data removed]",
            "text/plain": [
              "<Figure size 864x216 with 1 Axes>"
            ]
          },
          "metadata": {
            "tags": []
          }
        }
      ]
    },
    {
      "cell_type": "markdown",
      "metadata": {
        "id": "7xRypzIm-0E2",
        "colab_type": "text"
      },
      "source": [
        ""
      ]
    }
  ]
}