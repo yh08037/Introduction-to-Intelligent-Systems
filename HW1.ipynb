{
  "nbformat": 4,
  "nbformat_minor": 0,
  "metadata": {
    "colab": {
      "name": "HW1.ipynb",
      "version": "0.3.2",
      "provenance": [],
      "collapsed_sections": [],
      "include_colab_link": true
    },
    "kernelspec": {
      "name": "python3",
      "display_name": "Python 3"
    },
    "accelerator": "GPU"
  },
  "cells": [
    {
      "cell_type": "markdown",
      "metadata": {
        "id": "view-in-github",
        "colab_type": "text"
      },
      "source": [
        "<a href=\"https://colab.research.google.com/github/yh08037/Introduction-to-Intelligent-Systems/blob/master/HW1.ipynb\" target=\"_parent\"><img src=\"https://colab.research.google.com/assets/colab-badge.svg\" alt=\"Open In Colab\"/></a>"
      ]
    },
    {
      "cell_type": "markdown",
      "metadata": {
        "id": "V6wvU0PxQIXB",
        "colab_type": "text"
      },
      "source": [
        "# Non-regeularized regression\n",
        "## Tasks\n",
        "### 1. Eead data & Plot values"
      ]
    },
    {
      "cell_type": "code",
      "metadata": {
        "id": "H7OrsbmAMVum",
        "colab_type": "code",
        "outputId": "bcfaf8a9-c953-472a-b1ef-48fa7918c589",
        "colab": {
          "base_uri": "https://localhost:8080/",
          "height": 283
        }
      },
      "source": [
        "import numpy as np\n",
        "import pandas as pd\n",
        "import matplotlib.pyplot as plt\n",
        "import random\n",
        "\n",
        "name_file = './data_lab1_iis.txt'\n",
        "\n",
        "columns = ['x', 'y']\n",
        "data_in = pd.read_csv(name_file, names=columns, sep=' ')\n",
        "\n",
        "data_in.plot(kind='scatter', x='x', y='y', color='red')\n",
        "# kind='scatter' means plot as point\n",
        "\n",
        "x = np.asarray(data_in['x'])\n",
        "y = np.asarray(data_in['y'])\n",
        "\n",
        "max_epoch = 10000\n",
        "\n",
        "N = 1\n",
        "J = 1\n",
        "I = len(data_in)  # i : numbers of training data\n",
        "\n",
        "\n",
        "alpha = 0.001\n",
        "\n",
        "x = np.concatenate((np.ones(I).reshape(-1, 1), x.reshape(-1, 1)), axis=1)"
      ],
      "execution_count": 0,
      "outputs": [
        {
          "output_type": "display_data",
          "data": {
            "image/png": "[encoded data removed]",
            "text/plain": [
              "<Figure size 432x288 with 1 Axes>"
            ]
          },
          "metadata": {
            "tags": []
          }
        }
      ]
    },
    {
      "cell_type": "markdown",
      "metadata": {
        "id": "cpoMCyknxRTy",
        "colab_type": "text"
      },
      "source": [
        "### Definition of SSE"
      ]
    },
    {
      "cell_type": "code",
      "metadata": {
        "id": "laejf0TixUm4",
        "colab_type": "code",
        "colab": {}
      },
      "source": [
        "def SSE(y_hat, y):\n",
        "    if y_hat.size != y.size:\n",
        "        print(\"Invalid arguments for SSE function\")\n",
        "        exit()\n",
        "\n",
        "    result = 0.\n",
        "    for i in range(1, y.size):\n",
        "        result += float(y_hat[i] - y[i]) ** 2\n",
        "    return result / 2"
      ],
      "execution_count": 0,
      "outputs": []
    },
    {
      "cell_type": "markdown",
      "metadata": {
        "id": "_qGVnegbIECN",
        "colab_type": "text"
      },
      "source": [
        "### Definition of Linear Relationship"
      ]
    },
    {
      "cell_type": "code",
      "metadata": {
        "id": "ElkHYRVWILUj",
        "colab_type": "code",
        "colab": {}
      },
      "source": [
        "def func(theta, t):\n",
        "    if theta.size != 2:\n",
        "        print(\"Invalid size of theta\")\n",
        "        exit()\n",
        "    return float(theta[0]) + float(theta[1]) * t"
      ],
      "execution_count": 0,
      "outputs": []
    },
    {
      "cell_type": "markdown",
      "metadata": {
        "id": "C9sbcClVUws4",
        "colab_type": "text"
      },
      "source": [
        "### 2. Batch Gradient Descent\n"
      ]
    },
    {
      "cell_type": "code",
      "metadata": {
        "id": "q5AapNz1U2YF",
        "colab_type": "code",
        "outputId": "0e0fd973-5955-49df-8a72-908a70d6667a",
        "colab": {
          "base_uri": "https://localhost:8080/",
          "height": 71
        }
      },
      "source": [
        "# initialization\n",
        "\n",
        "theta_BGD = np.random.rand(N+1, 1)\n",
        "\n",
        "# main loop\n",
        "for epoch in range(max_epoch):\n",
        "    theta_BGD_tp = np.transpose(theta_BGD)\n",
        "    for n in range(0, N+1):\n",
        "        sum = 0.\n",
        "        for i in range(0, I):\n",
        "            sum += (np.matmul(theta_BGD_tp, x[i]) - y[i]) * x[i][n]\n",
        "        theta_BGD[n] = theta_BGD[n] - alpha * sum\n",
        "\n",
        "\n",
        "theta_BGD_tp = np.transpose(theta_BGD)\n",
        "\n",
        "y_hat_BGD = np.empty((y.size, 1))\n",
        "\n",
        "for i in range(0, I):\n",
        "    y_hat_BGD[i] = np.matmul(theta_BGD_tp, x[i])\n",
        "\n",
        "print(theta_BGD)\n",
        "\n",
        "error_BGD = SSE(y_hat_BGD, y)\n",
        "print(error_BGD)"
      ],
      "execution_count": 0,
      "outputs": [
        {
          "output_type": "stream",
          "text": [
            "[[-0.94710665]\n",
            " [10.23574237]]\n",
            "181.97108556023034\n"
          ],
          "name": "stdout"
        }
      ]
    },
    {
      "cell_type": "markdown",
      "metadata": {
        "id": "RjE0NPn565IF",
        "colab_type": "text"
      },
      "source": [
        "### 3. Stochastic Gradient Descent"
      ]
    },
    {
      "cell_type": "code",
      "metadata": {
        "id": "22QBkQnCeMzV",
        "colab_type": "code",
        "outputId": "3cb71b77-a626-4ff9-d8bf-506994df2e2d",
        "colab": {
          "base_uri": "https://localhost:8080/",
          "height": 71
        }
      },
      "source": [
        "# initialization\n",
        "\n",
        "theta_SGD = np.random.rand(N+1, 1)\n",
        "\n",
        "# main loop\n",
        "for epoch in range(1, max_epoch+1):\n",
        "    theta_SGD_tp = np.transpose(theta_SGD)\n",
        "    for n in range(0, N+1):\n",
        "        i = random.randint(0, I-1)\n",
        "        theta_SGD[n] -= alpha * (np.matmul(theta_SGD_tp, x[i]) - y[i]) * x[i][n]\n",
        "\n",
        "\n",
        "theta_SGD_tp = np.transpose(theta_SGD)\n",
        "\n",
        "y_hat_SGD = np.empty((y.size, 1))\n",
        "\n",
        "for i in range(0, I):\n",
        "    y_hat_SGD[i] = np.matmul(theta_SGD_tp, x[i])\n",
        "\n",
        "print(theta_SGD)\n",
        "\n",
        "error_SGD = SSE(y_hat_SGD, y)\n",
        "print(error_SGD)"
      ],
      "execution_count": 0,
      "outputs": [
        {
          "output_type": "stream",
          "text": [
            "[[-0.07260745]\n",
            " [ 9.52955137]]\n",
            "192.91273290719468\n"
          ],
          "name": "stdout"
        }
      ]
    },
    {
      "cell_type": "markdown",
      "metadata": {
        "id": "yN6mRiAw-txF",
        "colab_type": "text"
      },
      "source": [
        "### 4. Ordinary Least Squares"
      ]
    },
    {
      "cell_type": "code",
      "metadata": {
        "id": "0HpCKaXX_Rir",
        "colab_type": "code",
        "outputId": "651b1a96-792c-49df-f466-03c5651b82f5",
        "colab": {
          "base_uri": "https://localhost:8080/",
          "height": 53
        }
      },
      "source": [
        "x_tp = np.transpose(x)\n",
        "\n",
        "theta_OLS = np.matmul(np.matmul(np.linalg.inv(np.matmul(x_tp, x)), x_tp), y)\n",
        "theta_OLS_tp = np.transpose(theta_OLS)\n",
        "\n",
        "print(theta_OLS)\n",
        "\n",
        "y_hat_OLS = np.empty((y.size, 1))\n",
        "\n",
        "for i in range(0, I):\n",
        "    y_hat_OLS[i] = np.matmul(theta_OLS_tp, x[i])\n",
        "\n",
        "error_OLS = SSE(y_hat_OLS, y)\n",
        "print(error_OLS)"
      ],
      "execution_count": 0,
      "outputs": [
        {
          "output_type": "stream",
          "text": [
            "[-0.94710665 10.23574237]\n",
            "181.97108556023025\n"
          ],
          "name": "stdout"
        }
      ]
    },
    {
      "cell_type": "markdown",
      "metadata": {
        "id": "n9OM4oEzDiX5",
        "colab_type": "text"
      },
      "source": [
        "### 5. Plot Linear Regressors over Original Dataset"
      ]
    },
    {
      "cell_type": "code",
      "metadata": {
        "id": "MEy3r1wyFxXg",
        "colab_type": "code",
        "outputId": "7317d77c-7f79-4148-bbcf-c53aada36ac4",
        "colab": {
          "base_uri": "https://localhost:8080/",
          "height": 283
        }
      },
      "source": [
        "t = np.asarray(data_in['x'])\n",
        "\n",
        "plt.plot(t, y, 'ro') #'ro' means red dot\n",
        "plt.xlabel('x')\n",
        "plt.ylabel('y')\n",
        "\n",
        "plt.plot(t, func(theta_BGD, t), label = \"BGD\")\n",
        "plt.plot(t, func(theta_SGD, t), label = \"SGD\")\n",
        "plt.plot(t, func(theta_OLS, t), label = \"OLS\")\n",
        "\n",
        "plt.legend()\n",
        "\n",
        "plt.show()"
      ],
      "execution_count": 0,
      "outputs": [
        {
          "output_type": "display_data",
          "data": {
            "image/png": "[encoded data removed]",
            "text/plain": [
              "<Figure size 432x288 with 1 Axes>"
            ]
          },
          "metadata": {
            "tags": []
          }
        }
      ]
    },
    {
      "cell_type": "markdown",
      "metadata": {
        "id": "l89MxUfGzL7p",
        "colab_type": "text"
      },
      "source": [
        "### 6. Test model with new data\n",
        "\n",
        "CalCOFI dataset\n",
        "\n",
        "X = Water temperature in degree Celcius\n",
        "\n",
        "Y = Salinity in g of salt per kg of water (g/kg)\n",
        "\n",
        "source : https://www.kaggle.com/sohier/calcofi#bottle.csv"
      ]
    },
    {
      "cell_type": "code",
      "metadata": {
        "id": "u9wGcfeZz02H",
        "colab_type": "code",
        "outputId": "2974f8c1-8cfd-40b2-a535-10be93e212e6",
        "colab": {
          "base_uri": "https://localhost:8080/",
          "height": 657
        }
      },
      "source": [
        "name_train = './train.txt'\n",
        "\n",
        "columns = ['x', 'y']\n",
        "train = pd.read_csv(name_train, names=columns, sep='\\t')\n",
        "\n",
        "\n",
        "train.plot(kind='scatter', x='x', y='y', color='red')\n",
        "# kind='scatter' means plot as point\n",
        "\n",
        "plt.show()\n",
        "\n",
        "x = np.asarray(train['x'])\n",
        "y = np.asarray(train['y'])\n",
        "\n",
        "\n",
        "max_epoch = 10000\n",
        "\n",
        "N = 1\n",
        "J = 1\n",
        "I = len(train)  # i : numbers of training data\n",
        "\n",
        "\n",
        "alpha = 0.001\n",
        "\n",
        "x = np.concatenate((np.ones(I).reshape(-1, 1), x.reshape(-1, 1)), axis=1)\n",
        "\n",
        "\n",
        "\n",
        "\n",
        "# BGD initialization\n",
        "\n",
        "theta_BGD = np.random.rand(N+1, 1)\n",
        "\n",
        "# BGD main loop\n",
        "for epoch in range(max_epoch):\n",
        "    theta_BGD_tp = np.transpose(theta_BGD)\n",
        "    for n in range(0, N+1):\n",
        "        for i in range(0, I):\n",
        "            theta_BGD[n] -= alpha * (np.matmul(theta_BGD_tp, x[i]) - y[i]) * x[i][n]\n",
        "\n",
        "\n",
        "theta_BGD_tp = np.transpose(theta_BGD)\n",
        "\n",
        "\n",
        "print(\"theta : \", float(theta_BGD[0]), float(theta_BGD[1]))\n",
        "\n",
        "\n",
        "# SGD initialization\n",
        "\n",
        "theta_SGD = np.random.rand(N+1, 1)\n",
        "\n",
        "# SGD main loop\n",
        "for epoch in range(1, max_epoch+1):\n",
        "    theta_SGD_tp = np.transpose(theta_SGD)\n",
        "    for n in range(0, N+1):\n",
        "        i = random.randint(0, I-1)\n",
        "        theta_SGD[n] -= alpha * (np.matmul(theta_SGD_tp, x[i]) - y[i]) * x[i][n]\n",
        "\n",
        "\n",
        "theta_SGD_tp = np.transpose(theta_SGD)\n",
        "\n",
        "print(\"theta : \", float(theta_SGD[0]), float(theta_SGD[1]))\n",
        "\n",
        "\n",
        "\n",
        "# OLS\n",
        "\n",
        "x_tp = np.transpose(x)\n",
        "\n",
        "theta_OLS = np.matmul(np.matmul(np.linalg.inv(np.matmul(x_tp, x)), x_tp), y)\n",
        "theta_OLS_tp = np.transpose(theta_OLS)\n",
        "\n",
        "print(\"theta : \", theta_OLS[0], theta_OLS[1])\n",
        "\n",
        "\n",
        "# plot linear regressors\n",
        "\n",
        "t = np.asarray(train['x'])\n",
        "\n",
        "plt.plot(t, y, 'ro') #'ro' means red dot\n",
        "plt.xlabel('x')\n",
        "plt.ylabel('y')\n",
        "\n",
        "plt.plot(t, func(theta_BGD, t), label = \"BGD\")\n",
        "plt.plot(t, func(theta_SGD, t), label = \"SGD\")\n",
        "plt.plot(t, func(theta_OLS, t), label = \"OLS\")\n",
        "\n",
        "plt.legend()\n",
        "\n",
        "plt.show()\n",
        "\n",
        "\n",
        "\n",
        "\n",
        "# test file initilization\n",
        "\n",
        "name_test = './test.txt'\n",
        "\n",
        "test = pd.read_csv(name_test, names=columns, sep='\\t')\n",
        "\n",
        "x_test = np.asarray(test['x'])\n",
        "y_test = np.asarray(test['y'])\n",
        "\n",
        "I = len(test) \n",
        "\n",
        "x_test = np.concatenate((np.ones(I).reshape(-1, 1), x_test.reshape(-1, 1)), axis=1)\n",
        "\n",
        "\n",
        "\n",
        "\n",
        "\n",
        "# test BGD model\n",
        "\n",
        "y_hat_BGD = np.empty((y_test.size, 1))\n",
        "\n",
        "for i in range(0, I):\n",
        "    y_hat_BGD[i] = np.matmul(theta_BGD_tp, x_test[i])\n",
        "\n",
        "\n",
        "\n",
        "error_BGD = SSE(y_hat_BGD, y_test)\n",
        "print('test error : ', error_BGD)\n",
        "\n",
        "\n",
        "# test SGD model\n",
        "\n",
        "y_hat_SGD = np.empty((y_test.size, 1))\n",
        "\n",
        "for i in range(0, I):\n",
        "    y_hat_SGD[i] = np.matmul(theta_SGD_tp, x_test[i])\n",
        "\n",
        "\n",
        "error_SGD = SSE(y_hat_SGD, y_test)\n",
        "print('test error : ', error_SGD)\n",
        "\n",
        "\n",
        "# test OLS model\n",
        "\n",
        "y_hat_OLS = np.empty((y_test.size, 1))\n",
        "\n",
        "for i in range(0, I):\n",
        "    y_hat_OLS[i] = np.matmul(theta_OLS_tp, x_test[i])\n",
        "\n",
        "error_OLS = SSE(y_hat_OLS, y_test)\n",
        "print('test error : ', error_OLS)\n",
        "\n",
        "\n"
      ],
      "execution_count": 0,
      "outputs": [
        {
          "output_type": "display_data",
          "data": {
            "image/png": "[encoded data removed]",
            "text/plain": [
              "<Figure size 432x288 with 1 Axes>"
            ]
          },
          "metadata": {
            "tags": []
          }
        },
        {
          "output_type": "stream",
          "text": [
            "theta :  34.42847817830237 -0.07031094918374071\n",
            "theta :  25.929336683468964 0.672595885453811\n",
            "theta :  34.40711442134633 -0.06812923713619123\n"
          ],
          "name": "stdout"
        },
        {
          "output_type": "display_data",
          "data": {
            "image/png": "[encoded data removed]",
            "text/plain": [
              "<Figure size 432x288 with 1 Axes>"
            ]
          },
          "metadata": {
            "tags": []
          }
        },
        {
          "output_type": "stream",
          "text": [
            "test error :  5.615842571581804\n",
            "test error :  276.4453873431183\n",
            "test error :  5.62631360358873\n"
          ],
          "name": "stdout"
        }
      ]
    },
    {
      "cell_type": "markdown",
      "metadata": {
        "id": "c5hcJgaQeWur",
        "colab_type": "text"
      },
      "source": [
        "### 6. Test model with new data (old)\n",
        "\n",
        "iris setosa data\n",
        "\n",
        "X = number of claims\n",
        "\n",
        "Y = total payment for all the claims in thousands of Swedish Kronor\n",
        "for geographical zones in Sweden\n",
        "\n",
        "Reference: Swedish Committee on Analysis of Risk Premium in Motor Insurance\n",
        "\n",
        "source: https://college.cengage.com/mathematics/brase/understandable_statistics/7e/students/datasets/slr/frames/frame.html\n"
      ]
    },
    {
      "cell_type": "code",
      "metadata": {
        "id": "HMQROgwyeZya",
        "colab_type": "code",
        "outputId": "bbdd4d4b-4d11-4487-abdc-c8d3a70adb39",
        "colab": {
          "base_uri": "https://localhost:8080/",
          "height": 463
        }
      },
      "source": [
        "name_file = './test.txt'\n",
        "\n",
        "columns = ['x', 'y']\n",
        "data_in = pd.read_csv(name_file, names=columns, sep='\\t')\n",
        "\n",
        "data_in.plot(kind='scatter', x='x', y='y', color='red')\n",
        "# kind='scatter' means plot as point\n",
        "\n",
        "x = np.asarray(data_in['x'])\n",
        "y = np.asarray(data_in['y'])\n",
        "\n",
        "max_epoch = 10000\n",
        "\n",
        "N = 1\n",
        "J = 1\n",
        "I = len(data_in)  # i : numbers of training data\n",
        "\n",
        "\n",
        "alpha = 0.001\n",
        "\n",
        "x = np.concatenate((np.ones(I).reshape(-1, 1), x.reshape(-1, 1)), axis=1)\n",
        "\n",
        "\n",
        "\n",
        "\n",
        "# initialization\n",
        "\n",
        "theta_BGD = np.random.rand(N+1, 1)\n",
        "\n",
        "# main loop\n",
        "for epoch in range(max_epoch):\n",
        "    theta_BGD_tp = np.transpose(theta_BGD)\n",
        "    for n in range(0, N+1):\n",
        "        sum = 0.\n",
        "        for i in range(0, I):\n",
        "            sum += (np.matmul(theta_BGD_tp, x[i]) - y[i]) * x[i][n]\n",
        "        theta_BGD[n] = theta_BGD[n] - alpha * sum\n",
        "\n",
        "\n",
        "theta_BGD_tp = np.transpose(theta_BGD)\n",
        "\n",
        "y_hat_BGD = np.empty((y.size, 1))\n",
        "\n",
        "for i in range(0, I):\n",
        "    y_hat_BGD[i] = np.matmul(theta_BGD_tp, x[i])\n",
        "\n",
        "print(theta_BGD)\n",
        "\n",
        "error_BGD = SSE(y_hat_BGD, y)\n",
        "print(error_BGD)\n",
        "\n",
        "\n",
        "\n",
        "\n",
        "# initialization\n",
        "\n",
        "theta_SGD = np.random.rand(N+1, 1)\n",
        "\n",
        "# main loop\n",
        "for epoch in range(1, max_epoch+1):\n",
        "    theta_SGD_tp = np.transpose(theta_SGD)\n",
        "    for n in range(0, N+1):\n",
        "        i = random.randint(0, I-1)\n",
        "        theta_SGD[n] -= alpha * (np.matmul(theta_SGD_tp, x[i]) - y[i]) * x[i][n]\n",
        "\n",
        "\n",
        "theta_SGD_tp = np.transpose(theta_SGD)\n",
        "\n",
        "y_hat_SGD = np.empty((y.size, 1))\n",
        "\n",
        "for i in range(0, I):\n",
        "    y_hat_SGD[i] = np.matmul(theta_SGD_tp, x[i])\n",
        "\n",
        "print(theta_SGD)\n",
        "\n",
        "error_SGD = SSE(y_hat_SGD, y)\n",
        "print(error_SGD)\n",
        "\n",
        "\n",
        "\n",
        "\n",
        "x_tp = np.transpose(x)\n",
        "\n",
        "theta_OLS = np.matmul(np.matmul(np.linalg.inv(np.matmul(x_tp, x)), x_tp), y)\n",
        "theta_OLS_tp = np.transpose(theta_OLS)\n",
        "\n",
        "print(theta_OLS)\n",
        "\n",
        "y_hat_OLS = np.empty((y.size, 1))\n",
        "\n",
        "for i in range(0, I):\n",
        "    y_hat_OLS[i] = np.matmul(theta_OLS_tp, x[i])\n",
        "\n",
        "error_OLS = SSE(y_hat_OLS, y)\n",
        "print(error_OLS)\n",
        "\n",
        "\n",
        "\n",
        "t = np.asarray(data_in['x'])\n",
        "\n",
        "plt.plot(t, y, 'ro') #'ro' means red dot\n",
        "plt.xlabel('x')\n",
        "plt.ylabel('y')\n",
        "\n",
        "plt.plot(t, func(theta_BGD, t), label = \"BGD\")\n",
        "plt.plot(t, func(theta_SGD, t), label = \"SGD\")\n",
        "plt.plot(t, func(theta_OLS, t), label = \"OLS\")\n",
        "\n",
        "plt.legend()\n",
        "\n",
        "plt.show()"
      ],
      "execution_count": 0,
      "outputs": [
        {
          "output_type": "stream",
          "text": [
            "/usr/local/lib/python3.6/dist-packages/ipykernel_launcher.py:36: RuntimeWarning: overflow encountered in add\n",
            "/usr/local/lib/python3.6/dist-packages/ipykernel_launcher.py:36: RuntimeWarning: invalid value encountered in matmul\n"
          ],
          "name": "stderr"
        },
        {
          "output_type": "stream",
          "text": [
            "[[nan]\n",
            " [nan]]\n",
            "nan\n",
            "[[24.72436161]\n",
            " [ 0.84707443]]\n",
            "352.7055357772136\n",
            "[34.39578149 -0.08260418]\n",
            "4.88504657161469\n"
          ],
          "name": "stdout"
        },
        {
          "output_type": "display_data",
          "data": {
            "image/png": "[encoded data removed]",
            "text/plain": [
              "<Figure size 432x288 with 1 Axes>"
            ]
          },
          "metadata": {
            "tags": []
          }
        }
      ]
    }
  ]
}