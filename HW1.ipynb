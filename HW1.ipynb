{
  "nbformat": 4,
  "nbformat_minor": 0,
  "metadata": {
    "colab": {
      "name": "HW1.ipynb",
      "version": "0.3.2",
      "provenance": [],
      "collapsed_sections": [],
      "toc_visible": true,
      "include_colab_link": true
    },
    "kernelspec": {
      "name": "python3",
      "display_name": "Python 3"
    }
  },
  "cells": [
    {
      "cell_type": "markdown",
      "metadata": {
        "id": "view-in-github",
        "colab_type": "text"
      },
      "source": [
        "<a href=\"https://colab.research.google.com/github/yh08037/Introduction-to-Intelligent-Systems/blob/master/HW1.ipynb\" target=\"_parent\"><img src=\"https://colab.research.google.com/assets/colab-badge.svg\" alt=\"Open In Colab\"/></a>"
      ]
    },
    {
      "cell_type": "markdown",
      "metadata": {
        "id": "V6wvU0PxQIXB",
        "colab_type": "text"
      },
      "source": [
        "# Non-regeularized regression\n",
        "## Tasks\n",
        "### 1. Eead data & Plot values"
      ]
    },
    {
      "cell_type": "code",
      "metadata": {
        "id": "H7OrsbmAMVum",
        "colab_type": "code",
        "outputId": "7868887f-08ef-4066-8c97-6b94d15096c9",
        "colab": {
          "base_uri": "https://localhost:8080/",
          "height": 283
        }
      },
      "source": [
        "import numpy as np\n",
        "import pandas as pd\n",
        "import matplotlib.pyplot as plt\n",
        "import random\n",
        "\n",
        "name_file = './data_lab1_iis.txt'\n",
        "\n",
        "columns = ['x', 'y']\n",
        "data_in = pd.read_csv(name_file, names=columns, sep=' ')\n",
        "\n",
        "data_in.plot(kind='scatter', x='x', y='y', color='red')\n",
        "# kind='scatter' means plot as point\n",
        "\n",
        "x = np.asarray(data_in['x'])\n",
        "y = np.asarray(data_in['y'])\n",
        "\n",
        "max_epoch = 10000\n",
        "\n",
        "N = 1\n",
        "J = 1\n",
        "I = len(data_in)  # i : numbers of training data\n",
        "\n",
        "\n",
        "alpha = 0.001\n",
        "\n",
        "x = np.concatenate((np.ones(I).reshape(-1, 1), x.reshape(-1, 1)), axis=1)"
      ],
      "execution_count": 1,
      "outputs": [
        {
          "output_type": "display_data",
          "data": {
            "image/png": "[encoded data removed]",
            "text/plain": [
              "<Figure size 432x288 with 1 Axes>"
            ]
          },
          "metadata": {
            "tags": []
          }
        }
      ]
    },
    {
      "cell_type": "markdown",
      "metadata": {
        "id": "cpoMCyknxRTy",
        "colab_type": "text"
      },
      "source": [
        "### Definition of SSE"
      ]
    },
    {
      "cell_type": "code",
      "metadata": {
        "id": "laejf0TixUm4",
        "colab_type": "code",
        "colab": {}
      },
      "source": [
        "def SSE(y_hat, y):\n",
        "    if y_hat.size != y.size:\n",
        "        print(\"Unvalid arguments for SSE function\")\n",
        "        exit()\n",
        "\n",
        "    result = 0.\n",
        "    for i in range(1, y.size):\n",
        "        result += float(y_hat[i] - y[i]) ** 2\n",
        "    return result / 2"
      ],
      "execution_count": 0,
      "outputs": []
    },
    {
      "cell_type": "markdown",
      "metadata": {
        "id": "_qGVnegbIECN",
        "colab_type": "text"
      },
      "source": [
        "### Definition of Linear Relationship"
      ]
    },
    {
      "cell_type": "code",
      "metadata": {
        "id": "ElkHYRVWILUj",
        "colab_type": "code",
        "colab": {}
      },
      "source": [
        "def func(theta, t):\n",
        "    if theta.size != 2:\n",
        "        print(\"Unvalid size of theta\")\n",
        "        exit()\n",
        "    return float(theta[0]) + float(theta[1]) * t"
      ],
      "execution_count": 0,
      "outputs": []
    },
    {
      "cell_type": "markdown",
      "metadata": {
        "id": "C9sbcClVUws4",
        "colab_type": "text"
      },
      "source": [
        "### 2. Batch Gradient Descent\n"
      ]
    },
    {
      "cell_type": "code",
      "metadata": {
        "id": "q5AapNz1U2YF",
        "colab_type": "code",
        "colab": {
          "base_uri": "https://localhost:8080/",
          "height": 71
        },
        "outputId": "5cb2187d-ccd8-484d-c48a-6d13fa20f5c0"
      },
      "source": [
        "# initialization\n",
        "\n",
        "theta_BGD = np.random.rand(N+1, 1)\n",
        "\n",
        "# main loop\n",
        "for epoch in range(max_epoch):\n",
        "    theta_BGD_tp = np.transpose(theta_BGD)\n",
        "    for n in range(0, N+1):\n",
        "        sum = 0.\n",
        "        for i in range(0, I):\n",
        "            sum += (np.matmul(theta_BGD_tp, x[i]) - y[i]) * x[i][n]\n",
        "        theta_BGD[n] = theta_BGD[n] - alpha * sum\n",
        "\n",
        "\n",
        "theta_BGD_tp = np.transpose(theta_BGD)\n",
        "\n",
        "y_hat_BGD = np.empty((y.size, 1))\n",
        "\n",
        "for i in range(0, I):\n",
        "    y_hat_BGD[i] = np.matmul(theta_BGD_tp, x[i])\n",
        "\n",
        "print(theta_BGD)\n",
        "\n",
        "error_BGD = SSE(y_hat_BGD, y)\n",
        "print(error_BGD)"
      ],
      "execution_count": 4,
      "outputs": [
        {
          "output_type": "stream",
          "text": [
            "[[-0.94710665]\n",
            " [10.23574237]]\n",
            "181.97108556023034\n"
          ],
          "name": "stdout"
        }
      ]
    },
    {
      "cell_type": "markdown",
      "metadata": {
        "id": "RjE0NPn565IF",
        "colab_type": "text"
      },
      "source": [
        "### 3. Stochastic Gradient Descent"
      ]
    },
    {
      "cell_type": "code",
      "metadata": {
        "id": "22QBkQnCeMzV",
        "colab_type": "code",
        "colab": {
          "base_uri": "https://localhost:8080/",
          "height": 71
        },
        "outputId": "b489cfdb-6b23-45d7-c74c-a1479d07225f"
      },
      "source": [
        "# initialization\n",
        "\n",
        "theta_SGD = np.random.rand(N+1, 1)\n",
        "\n",
        "# main loop\n",
        "for epoch in range(1, max_epoch+1):\n",
        "    theta_SGD_tp = np.transpose(theta_SGD)\n",
        "    for n in range(0, N+1):\n",
        "        i = random.randint(0, I-1)\n",
        "        theta_SGD[n] -= alpha * (np.matmul(theta_SGD_tp, x[i]) - y[i]) * x[i][n]\n",
        "\n",
        "\n",
        "theta_SGD_tp = np.transpose(theta_SGD)\n",
        "\n",
        "y_hat_SGD = np.empty((y.size, 1))\n",
        "\n",
        "for i in range(0, I):\n",
        "    y_hat_SGD[i] = np.matmul(theta_SGD_tp, x[i])\n",
        "\n",
        "print(theta_SGD)\n",
        "\n",
        "error_SGD = SSE(y_hat_SGD, y)\n",
        "print(error_SGD)"
      ],
      "execution_count": 5,
      "outputs": [
        {
          "output_type": "stream",
          "text": [
            "[[0.17644836]\n",
            " [9.29952295]]\n",
            "199.83283941106032\n"
          ],
          "name": "stdout"
        }
      ]
    },
    {
      "cell_type": "markdown",
      "metadata": {
        "id": "yN6mRiAw-txF",
        "colab_type": "text"
      },
      "source": [
        "### 4. Ordinary Least Squares"
      ]
    },
    {
      "cell_type": "code",
      "metadata": {
        "id": "0HpCKaXX_Rir",
        "colab_type": "code",
        "colab": {
          "base_uri": "https://localhost:8080/",
          "height": 53
        },
        "outputId": "3c0e6407-ac2a-4805-b281-dda41e6ce27f"
      },
      "source": [
        "x_tp = np.transpose(x)\n",
        "\n",
        "theta_OLS = np.matmul(np.matmul(np.linalg.inv(np.matmul(x_tp, x)), x_tp), y)\n",
        "theta_OLS_tp = np.transpose(theta_OLS)\n",
        "\n",
        "print(theta_OLS)\n",
        "\n",
        "y_hat_OLS = np.empty((y.size, 1))\n",
        "\n",
        "for i in range(0, I):\n",
        "    y_hat_OLS[i] = np.matmul(theta_OLS_tp, x[i])\n",
        "\n",
        "error_OLS = SSE(y_hat_OLS, y)\n",
        "print(error_OLS)"
      ],
      "execution_count": 6,
      "outputs": [
        {
          "output_type": "stream",
          "text": [
            "[-0.94710665 10.23574237]\n",
            "181.97108556023025\n"
          ],
          "name": "stdout"
        }
      ]
    },
    {
      "cell_type": "markdown",
      "metadata": {
        "id": "n9OM4oEzDiX5",
        "colab_type": "text"
      },
      "source": [
        "### 5. Plot Linear Regressors over Original Dataset"
      ]
    },
    {
      "cell_type": "code",
      "metadata": {
        "id": "MEy3r1wyFxXg",
        "colab_type": "code",
        "colab": {
          "base_uri": "https://localhost:8080/",
          "height": 283
        },
        "outputId": "2140ef5a-6d9a-4d2b-c12f-1d3571a8dc1f"
      },
      "source": [
        "t = np.asarray(data_in['x'])\n",
        "\n",
        "plt.plot(t, y, 'ro') #'ro' means red dot\n",
        "plt.xlabel('x')\n",
        "plt.ylabel('y')\n",
        "\n",
        "plt.plot(t, func(theta_BGD, t), label = \"BGD\")\n",
        "plt.plot(t, func(theta_SGD, t), label = \"SGD\")\n",
        "plt.plot(t, func(theta_OLS, t), label = \"OLS\")\n",
        "\n",
        "plt.legend()\n",
        "\n",
        "plt.show()"
      ],
      "execution_count": 7,
      "outputs": [
        {
          "output_type": "display_data",
          "data": {
            "image/png": "[encoded data removed]",
            "text/plain": [
              "<Figure size 432x288 with 1 Axes>"
            ]
          },
          "metadata": {
            "tags": []
          }
        }
      ]
    },
    {
      "cell_type": "markdown",
      "metadata": {
        "id": "c5hcJgaQeWur",
        "colab_type": "text"
      },
      "source": [
        "### 6. Test model with new data\n",
        "\n",
        "iris setosa data\n",
        "\n",
        "X = number of claims\n",
        "\n",
        "Y = total payment for all the claims in thousands of Swedish Kronor\n",
        "for geographical zones in Sweden\n",
        "\n",
        "Reference: Swedish Committee on Analysis of Risk Premium in Motor Insurance\n",
        "\n",
        "source: https://college.cengage.com/mathematics/brase/understandable_statistics/7e/students/datasets/slr/frames/frame.html\n"
      ]
    },
    {
      "cell_type": "code",
      "metadata": {
        "id": "HMQROgwyeZya",
        "colab_type": "code",
        "colab": {
          "base_uri": "https://localhost:8080/",
          "height": 427
        },
        "outputId": "a2bd4125-75b3-4ddb-87d9-5c6007a2d128"
      },
      "source": [
        "name_file = './test.txt'\n",
        "\n",
        "columns = ['x', 'y']\n",
        "data_in = pd.read_csv(name_file, names=columns, sep='\\t')\n",
        "\n",
        "data_in.plot(kind='scatter', x='x', y='y', color='red')\n",
        "# kind='scatter' means plot as point\n",
        "\n",
        "x = np.asarray(data_in['x'])\n",
        "y = np.asarray(data_in['y'])\n",
        "\n",
        "max_epoch = 10000\n",
        "\n",
        "N = 1\n",
        "J = 1\n",
        "I = len(data_in)  # i : numbers of training data\n",
        "\n",
        "\n",
        "alpha = 0.001\n",
        "\n",
        "x = np.concatenate((np.ones(I).reshape(-1, 1), x.reshape(-1, 1)), axis=1)\n",
        "\n",
        "\n",
        "\n",
        "\n",
        "# initialization\n",
        "\n",
        "theta_BGD = np.random.rand(N+1, 1)\n",
        "\n",
        "# main loop\n",
        "for epoch in range(max_epoch):\n",
        "    theta_BGD_tp = np.transpose(theta_BGD)\n",
        "    for n in range(0, N+1):\n",
        "        sum = 0.\n",
        "        for i in range(0, I):\n",
        "            sum += (np.matmul(theta_BGD_tp, x[i]) - y[i]) * x[i][n]\n",
        "        theta_BGD[n] = theta_BGD[n] - alpha * sum\n",
        "\n",
        "\n",
        "theta_BGD_tp = np.transpose(theta_BGD)\n",
        "\n",
        "y_hat_BGD = np.empty((y.size, 1))\n",
        "\n",
        "for i in range(0, I):\n",
        "    y_hat_BGD[i] = np.matmul(theta_BGD_tp, x[i])\n",
        "\n",
        "print(theta_BGD)\n",
        "\n",
        "error_BGD = SSE(y_hat_BGD, y)\n",
        "print(error_BGD)\n",
        "\n",
        "\n",
        "\n",
        "\n",
        "# initialization\n",
        "\n",
        "theta_SGD = np.random.rand(N+1, 1)\n",
        "\n",
        "# main loop\n",
        "for epoch in range(1, max_epoch+1):\n",
        "    theta_SGD_tp = np.transpose(theta_SGD)\n",
        "    for n in range(0, N+1):\n",
        "        i = random.randint(0, I-1)\n",
        "        theta_SGD[n] -= alpha * (np.matmul(theta_SGD_tp, x[i]) - y[i]) * x[i][n]\n",
        "\n",
        "\n",
        "theta_SGD_tp = np.transpose(theta_SGD)\n",
        "\n",
        "y_hat_SGD = np.empty((y.size, 1))\n",
        "\n",
        "for i in range(0, I):\n",
        "    y_hat_SGD[i] = np.matmul(theta_SGD_tp, x[i])\n",
        "\n",
        "print(theta_SGD)\n",
        "\n",
        "error_SGD = SSE(y_hat_SGD, y)\n",
        "print(error_SGD)\n",
        "\n",
        "\n",
        "\n",
        "\n",
        "x_tp = np.transpose(x)\n",
        "\n",
        "theta_OLS = np.matmul(np.matmul(np.linalg.inv(np.matmul(x_tp, x)), x_tp), y)\n",
        "theta_OLS_tp = np.transpose(theta_OLS)\n",
        "\n",
        "print(theta_OLS)\n",
        "\n",
        "y_hat_OLS = np.empty((y.size, 1))\n",
        "\n",
        "for i in range(0, I):\n",
        "    y_hat_OLS[i] = np.matmul(theta_OLS_tp, x[i])\n",
        "\n",
        "error_OLS = SSE(y_hat_OLS, y)\n",
        "print(error_OLS)\n",
        "\n",
        "\n",
        "\n",
        "t = np.asarray(data_in['x'])\n",
        "\n",
        "plt.plot(t, y, 'ro') #'ro' means red dot\n",
        "plt.xlabel('x')\n",
        "plt.ylabel('y')\n",
        "\n",
        "plt.plot(t, func(theta_BGD, t), label = \"BGD\")\n",
        "plt.plot(t, func(theta_SGD, t), label = \"SGD\")\n",
        "plt.plot(t, func(theta_OLS, t), label = \"OLS\")\n",
        "\n",
        "plt.legend()\n",
        "\n",
        "plt.show()"
      ],
      "execution_count": 8,
      "outputs": [
        {
          "output_type": "stream",
          "text": [
            "[[2.72317395]\n",
            " [0.66393618]]\n",
            "1.531663515803789\n",
            "[[1.34917932]\n",
            " [1.05191099]]\n",
            "2.085850580603128\n",
            "[2.73301864 0.66110839]\n",
            "1.5316332466360358\n"
          ],
          "name": "stdout"
        },
        {
          "output_type": "display_data",
          "data": {
            "image/png": "[encoded data removed]",
            "text/plain": [
              "<Figure size 432x288 with 1 Axes>"
            ]
          },
          "metadata": {
            "tags": []
          }
        }
      ]
    }
  ]
}